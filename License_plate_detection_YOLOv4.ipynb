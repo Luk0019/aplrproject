{
  "nbformat": 4,
  "nbformat_minor": 0,
  "metadata": {
    "colab": {
      "name": "License_plate_detection_YOLOv4.ipynb",
      "provenance": [],
      "authorship_tag": "ABX9TyOcYNKRUwZkjZF/baW4Iyhq",
      "include_colab_link": true
    },
    "kernelspec": {
      "name": "python3",
      "display_name": "Python 3"
    },
    "language_info": {
      "name": "python"
    }
  },
  "cells": [
    {
      "cell_type": "markdown",
      "metadata": {
        "id": "view-in-github",
        "colab_type": "text"
      },
      "source": [
        "<a href=\"https://colab.research.google.com/github/Luk0019/aplrproject/blob/main/License_plate_detection_YOLOv4.ipynb\" target=\"_parent\"><img src=\"https://colab.research.google.com/assets/colab-badge.svg\" alt=\"Open In Colab\"/></a>"
      ]
    },
    {
      "cell_type": "markdown",
      "source": [
        "# **Installing/Setting-up Darknet**"
      ],
      "metadata": {
        "id": "JmT-B8xh3KcU"
      }
    },
    {
      "cell_type": "code",
      "execution_count": null,
      "metadata": {
        "colab": {
          "base_uri": "https://localhost:8080/"
        },
        "id": "9cMpiVuH2_es",
        "outputId": "be7028b4-b595-4d14-9986-bfc703f0c475"
      },
      "outputs": [
        {
          "output_type": "stream",
          "name": "stdout",
          "text": [
            "Cloning into 'darknet'...\n",
            "remote: Enumerating objects: 15412, done.\u001b[K\n",
            "remote: Total 15412 (delta 0), reused 0 (delta 0), pack-reused 15412\u001b[K\n",
            "Receiving objects: 100% (15412/15412), 14.02 MiB | 20.99 MiB/s, done.\n",
            "Resolving deltas: 100% (10356/10356), done.\n"
          ]
        }
      ],
      "source": [
        "# cloning DARKNET\n",
        "!git clone https://github.com/AlexeyAB/darknet"
      ]
    },
    {
      "cell_type": "code",
      "source": [
        "%cd ./darknet"
      ],
      "metadata": {
        "colab": {
          "base_uri": "https://localhost:8080/"
        },
        "id": "FkQjNyP_4M9l",
        "outputId": "cb04cfdb-fc55-4750-d12a-b7fe245eaf3d"
      },
      "execution_count": null,
      "outputs": [
        {
          "output_type": "stream",
          "name": "stdout",
          "text": [
            "/content/darknet\n"
          ]
        }
      ]
    },
    {
      "cell_type": "code",
      "source": [
        "# Setting up OpenCV, CUDNN and GPU\n",
        "!sed -i 's/OPENCV=0/OPENCV=1/' Makefile\n",
        "!sed -i 's/GPU=0/GPU=1/' Makefile\n",
        "!sed -i 's/CUDNN=0/CUDNN=1/' Makefile\n",
        "!sed -i 's/CUDNN_HALF=0/CUDNN_HALF=1/' Makefile\n",
        "!sed -i 's/LIBSO=0/LIBSO=1/' Makefile"
      ],
      "metadata": {
        "id": "syNLDQcz4W79"
      },
      "execution_count": null,
      "outputs": []
    },
    {
      "cell_type": "code",
      "source": [
        "# Make darknet (builds darknet so darknet executable file can be used to run or train object detectors)\n",
        "!make"
      ],
      "metadata": {
        "id": "r8t2lmv24uw0"
      },
      "execution_count": null,
      "outputs": []
    },
    {
      "cell_type": "code",
      "source": [
        "# Importing packages/libraries\n",
        "import os\n",
        "import cv2\n",
        "import numpy as np\n",
        "import darknet\n",
        "from PIL import Image\n",
        "import matplotlib.pyplot as plt\n",
        "import matplotlib.image as img"
      ],
      "metadata": {
        "id": "8dhNfHiT7cRC"
      },
      "execution_count": null,
      "outputs": []
    },
    {
      "cell_type": "markdown",
      "source": [
        "# **Setting-up Dataset**"
      ],
      "metadata": {
        "id": "KdNDYpFD77Tr"
      }
    },
    {
      "cell_type": "code",
      "source": [
        ""
      ],
      "metadata": {
        "id": "mDW-z2DZ8Cn0"
      },
      "execution_count": null,
      "outputs": []
    }
  ]
}